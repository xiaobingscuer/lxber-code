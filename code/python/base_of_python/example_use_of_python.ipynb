{
 "cells": [
  {
   "cell_type": "markdown",
   "metadata": {},
   "source": [
    "# python的一些小应用"
   ]
  },
  {
   "cell_type": "markdown",
   "metadata": {},
   "source": [
    "## 邮件发送"
   ]
  },
  {
   "cell_type": "markdown",
   "metadata": {},
   "source": [
    "## 爬虫"
   ]
  },
  {
   "cell_type": "markdown",
   "metadata": {},
   "source": [
    "## 面向对象编程"
   ]
  },
  {
   "cell_type": "markdown",
   "metadata": {},
   "source": [
    "### 类和对象的区别分析"
   ]
  },
  {
   "cell_type": "code",
   "execution_count": 19,
   "metadata": {},
   "outputs": [
    {
     "name": "stdout",
     "output_type": "stream",
     "text": [
      "{'__module__': '__main__', 'name': 'lixiaobing', 'age': 10, 'printA': <function A.printA at 0x00000274FD705D08>, 'setna': <function A.setna at 0x00000274FD705F28>, '__dict__': <attribute '__dict__' of 'A' objects>, '__weakref__': <attribute '__weakref__' of 'A' objects>, '__doc__': None}\n",
      "{}\n",
      "2701490775472\n",
      "1484222208\n",
      "2701490775472\n",
      "1484222208\n",
      "2701491461384\n",
      "2701491461928\n",
      "2701489942472\n",
      "2701489942472\n",
      "lxber 18\n",
      "{'__module__': '__main__', 'name': 'lixiaobing', 'age': 10, 'printA': <function A.printA at 0x00000274FD705D08>, 'setna': <function A.setna at 0x00000274FD705F28>, '__dict__': <attribute '__dict__' of 'A' objects>, '__weakref__': <attribute '__weakref__' of 'A' objects>, '__doc__': None}\n",
      "{'name': 'lxber', 'age': 18}\n",
      "2701490775472\n",
      "1484222208\n",
      "2701491552584\n",
      "1484222464\n",
      "2701491461384\n",
      "2701491461928\n",
      "2701489942472\n",
      "2701489942472\n"
     ]
    }
   ],
   "source": [
    "class A():\n",
    "    name = \"lixiaobing\"\n",
    "    age = 10\n",
    "    def printA(self):\n",
    "        print(self.name,self.age)\n",
    "    def setna(self,n,a):\n",
    "        self.name = n\n",
    "        self.age = a\n",
    "\n",
    "\n",
    "        \n",
    "\n",
    "a = A()\n",
    "\n",
    "print(A.__dict__)  # ...\n",
    "print(a.__dict__) # {}\n",
    "       \n",
    "print(id(A.name))\n",
    "print(id(A.age))\n",
    "\n",
    "print(id(a.name))\n",
    "print(id(a.age))\n",
    "\n",
    "\n",
    "print(id(A.printA))\n",
    "print(id(A.setna))\n",
    "\n",
    "print(id(a.printA))\n",
    "print(id(a.setna))\n",
    "\n",
    "\n",
    "a.setna(\"lxber\",18)\n",
    "a.printA()\n",
    "\n",
    "print(A.__dict__) #...\n",
    "print(a.__dict__) # name age\n",
    "\n",
    "print(id(A.name))\n",
    "print(id(A.age))\n",
    "\n",
    "print(id(a.name))\n",
    "print(id(a.age))\n",
    "\n",
    "print(id(A.printA))\n",
    "print(id(A.setna))\n",
    "\n",
    "print(id(a.printA)) #\n",
    "print(id(a.setna)) #\n",
    "\n",
    "# 结论：对象实例中的成员其实是一个引用，是对类实例成员的一个引用，并没有对象自己的成员，通过赋值可改变对象成员引用，从而拥有属于对象自己的成员\n",
    "# 定义类时对类开辟空间，叫类实例，类实例只有一份；每定义一个对象时，对对象开辟空间，叫对象实例；\n",
    "# 对象实例中的成员其实是对类实例成员的一个引用，当对对象实例的成员重新赋值后，成员的引用也就改变为新赋值变量的引用；\n",
    "# 对象自定义的新成员，是保存在对象里面的\n",
    "# 对象的成员函数其实是对类实例的成员函数的一份拷贝的引用，该拷贝保存在一个固定位置，该位置叫xxx\n",
    "# 每当对象调用一个成员函数时，该位置就为类实例相应成员函数的拷贝"
   ]
  },
  {
   "cell_type": "markdown",
   "metadata": {},
   "source": [
    "### 关于self"
   ]
  },
  {
   "cell_type": "markdown",
   "metadata": {},
   "source": [
    "### 封装、继承、多态的实现"
   ]
  },
  {
   "cell_type": "markdown",
   "metadata": {},
   "source": []
  }
 ],
 "metadata": {
  "kernelspec": {
   "display_name": "Python 3",
   "language": "python",
   "name": "python3"
  },
  "language_info": {
   "codemirror_mode": {
    "name": "ipython",
    "version": 3
   },
   "file_extension": ".py",
   "mimetype": "text/x-python",
   "name": "python",
   "nbconvert_exporter": "python",
   "pygments_lexer": "ipython3",
   "version": "3.6.4"
  }
 },
 "nbformat": 4,
 "nbformat_minor": 2
}
