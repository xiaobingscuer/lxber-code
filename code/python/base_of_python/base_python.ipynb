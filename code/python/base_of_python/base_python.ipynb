{
 "cells": [
  {
   "cell_type": "markdown",
   "metadata": {
    "slideshow": {
     "slide_type": "-"
    }
   },
   "source": [
    "# python基础（python3）"
   ]
  },
  {
   "cell_type": "markdown",
   "metadata": {},
   "source": [
    "##  打印输出: \n",
    "#### 占位  拼接 常量"
   ]
  },
  {
   "cell_type": "code",
   "execution_count": 3,
   "metadata": {},
   "outputs": [
    {
     "name": "stdout",
     "output_type": "stream",
     "text": [
      "hello,python! I am xiaobing\n",
      "today is 3 day in this week.\n",
      "None\n",
      "NotImplemented\n",
      "Ellipsis\n"
     ]
    }
   ],
   "source": [
    "# 按格式打印\n",
    "print(\"hello,python! I am %s\" % \"xiaobing\")\n",
    "\n",
    "d = 3\n",
    "s = \"today is %d day\" % (d) +\" in this week.\"\n",
    "print(s)\n",
    "\n",
    "# 打印常量\n",
    "print(None)\n",
    "print(NotImplemented)\n",
    "print(Ellipsis)"
   ]
  },
  {
   "cell_type": "markdown",
   "metadata": {},
   "source": [
    "##  基本数据类型"
   ]
  },
  {
   "cell_type": "markdown",
   "metadata": {},
   "source": [
    "### 整型\n",
    "#### 长整型：python自动识别短整型还是长整型\n",
    "#### 十进制整型：123\n",
    "#### 八进制整型：0o173 或者 0O173 或者 0173 \n",
    "#### 十六进制整型：0x7b(B) 或者 0X7b(B)\n",
    "#### 二进制整型：0b(B) 01111011\n",
    "#### 如果位数过长，还可以用下划线_来分开，比如二进制数 0b_0111_1011   ,再比如十进制数100_000_000_000"
   ]
  },
  {
   "cell_type": "code",
   "execution_count": 36,
   "metadata": {},
   "outputs": [
    {
     "name": "stdout",
     "output_type": "stream",
     "text": [
      "123\n",
      "123\n",
      "123\n",
      "123\n"
     ]
    }
   ],
   "source": [
    "a = 123\n",
    "print(a)\n",
    "\n",
    "a = 0o173\n",
    "print(a)\n",
    "\n",
    "a = 0x7b\n",
    "print(a)\n",
    "\n",
    "a = 0b_0111_1011\n",
    "print(a)\n"
   ]
  },
  {
   "cell_type": "markdown",
   "metadata": {},
   "source": [
    "### 浮点型\n",
    "#### 常规：3.14   10.    .001    \n",
    "#### 指数：1e100    3.14e-10    0e0    \n",
    "#### 如果位数过长，可以隔几位用下划线分开 如，3.14_15_93"
   ]
  },
  {
   "cell_type": "code",
   "execution_count": 43,
   "metadata": {},
   "outputs": [
    {
     "name": "stdout",
     "output_type": "stream",
     "text": [
      "3.14\n",
      "10.0\n",
      "0.001\n",
      "1e+100\n",
      "3.14e-10\n",
      "0.0\n",
      "3.141593\n"
     ]
    }
   ],
   "source": [
    "a = 3.14\n",
    "print(a)\n",
    "\n",
    "a = 10.\n",
    "print(a)\n",
    "\n",
    "a = .001\n",
    "print(a)\n",
    "\n",
    "a = 1e100\n",
    "print(a)\n",
    "\n",
    "a = 3.14e-10\n",
    "print(a)\n",
    "\n",
    "a = 0e0\n",
    "print(a)\n",
    "\n",
    "a = 3.14_15_93\n",
    "print(a)\n"
   ]
  },
  {
   "cell_type": "markdown",
   "metadata": {},
   "source": [
    "### 布尔类型\n",
    "#### 真：True 假：False"
   ]
  },
  {
   "cell_type": "code",
   "execution_count": 44,
   "metadata": {},
   "outputs": [
    {
     "name": "stdout",
     "output_type": "stream",
     "text": [
      "True\n",
      "False\n"
     ]
    }
   ],
   "source": [
    "print(True)\n",
    "print(False)"
   ]
  },
  {
   "cell_type": "markdown",
   "metadata": {},
   "source": [
    "### 字符串类型\n",
    "#### ‘this is a string’\n",
    "#### \"this is a string\"\n",
    "#### 多行字符串：\"\"\" this is multiline string\"\"\""
   ]
  },
  {
   "cell_type": "code",
   "execution_count": 49,
   "metadata": {},
   "outputs": [
    {
     "name": "stdout",
     "output_type": "stream",
     "text": [
      "this is a string\n",
      "this is a string\n",
      "line 1\n",
      "line2 \n",
      "line3\n",
      "\n"
     ]
    }
   ],
   "source": [
    "s1 = 'this is a string'\n",
    "s2 = \"this is a string\"\n",
    "s3 = \"\"\"line 1\n",
    "line2 \n",
    "line3\n",
    "\"\"\"\n",
    "print(s1)\n",
    "print(s2)\n",
    "print(s3)\n"
   ]
  },
  {
   "cell_type": "markdown",
   "metadata": {},
   "source": [
    "### 复数类型\n",
    "#### complex('r+Ij')"
   ]
  },
  {
   "cell_type": "code",
   "execution_count": 67,
   "metadata": {},
   "outputs": [
    {
     "name": "stdout",
     "output_type": "stream",
     "text": [
      "(1+2j)\n",
      "(1+2j)\n"
     ]
    }
   ],
   "source": [
    "c = complex('1+2j')\n",
    "print(c)\n",
    "\n",
    "c = complex(1,2)\n",
    "print(c)\n"
   ]
  },
  {
   "cell_type": "markdown",
   "metadata": {},
   "source": [
    "### 字节类型"
   ]
  },
  {
   "cell_type": "code",
   "execution_count": 189,
   "metadata": {},
   "outputs": [
    {
     "data": {
      "text/plain": [
       "'2ef0f1f2'"
      ]
     },
     "execution_count": 189,
     "metadata": {},
     "output_type": "execute_result"
    }
   ],
   "source": [
    "a  = b'still allows embedded \"double\" quotes'\n",
    "a\n",
    "a = bytearray.fromhex('2Ef0 F1f2  ')\n",
    "a.hex()"
   ]
  },
  {
   "cell_type": "markdown",
   "metadata": {},
   "source": [
    "### 类型转换\n",
    "#### int() , float() , str()"
   ]
  },
  {
   "cell_type": "markdown",
   "metadata": {},
   "source": []
  },
  {
   "cell_type": "markdown",
   "metadata": {},
   "source": [
    "## 基本操作"
   ]
  },
  {
   "cell_type": "markdown",
   "metadata": {},
   "source": [
    "\n",
    "### 算术运算：\n",
    "#### 赋值=  加+  减-  乘\\*  求幂\\*\\*  除保留小数/ 除并取整//  取余%   取负-\n",
    "#### 加并赋值+=  减并赋值=  乘并赋值\\*=  求幂并赋值\\*\\*=  除并赋值/=  除取整并赋值//=  求余并赋值%="
   ]
  },
  {
   "cell_type": "code",
   "execution_count": 64,
   "metadata": {},
   "outputs": [
    {
     "name": "stdout",
     "output_type": "stream",
     "text": [
      "5\n",
      "-1\n",
      "6\n",
      "8\n",
      "0.6666666666666666\n",
      "0\n",
      "2\n",
      "-2\n",
      "5\n",
      "2\n",
      "6\n",
      "216\n",
      "72.0\n",
      "24.0\n",
      "0.0\n"
     ]
    }
   ],
   "source": [
    "a = 2\n",
    "b = 3\n",
    "\n",
    "print(a + b)\n",
    "print(a - b)\n",
    "print(a * b)\n",
    "print(a ** b)\n",
    "print(a / b)\n",
    "print(a // b)\n",
    "print(a % b)\n",
    "print(-a)\n",
    "\n",
    "a += b\n",
    "print(a)\n",
    "a -= b\n",
    "print(a)\n",
    "a *= b\n",
    "print(a)\n",
    "a **= b\n",
    "print(a)\n",
    "a /= b\n",
    "print(a)\n",
    "a //= b\n",
    "print(a)\n",
    "a %= b\n",
    "print(a)\n"
   ]
  },
  {
   "cell_type": "markdown",
   "metadata": {},
   "source": [
    "### 条件表达式：\n",
    "#### 大于> 小于<  等于==  不等于!=  大于等于>=  小于等于<="
   ]
  },
  {
   "cell_type": "code",
   "execution_count": 13,
   "metadata": {},
   "outputs": [
    {
     "name": "stdout",
     "output_type": "stream",
     "text": [
      "False\n",
      "True\n",
      "False\n",
      "True\n",
      "False\n",
      "True\n"
     ]
    }
   ],
   "source": [
    "a = 2\n",
    "b = 3\n",
    "\n",
    "print(a > b)\n",
    "print(a < b)\n",
    "print(a == b)\n",
    "print(a != b)\n",
    "print(a >= b)\n",
    "print(a <= b)"
   ]
  },
  {
   "cell_type": "markdown",
   "metadata": {},
   "source": [
    "### 逻辑表达式：\n",
    "#### 与and  或or  非not"
   ]
  },
  {
   "cell_type": "code",
   "execution_count": 46,
   "metadata": {},
   "outputs": [
    {
     "name": "stdout",
     "output_type": "stream",
     "text": [
      "False\n",
      "True\n",
      "True\n"
     ]
    }
   ],
   "source": [
    "a = 2\n",
    "b = 3\n",
    "\n",
    "print(a > b and a < 10)\n",
    "print(a < b or a < 10)\n",
    "print(not a > b)\n"
   ]
  },
  {
   "cell_type": "markdown",
   "metadata": {},
   "source": [
    "###  位操作\n",
    "#### 位与&  位或|  位取反~ 左移<< 右移>>"
   ]
  },
  {
   "cell_type": "code",
   "execution_count": 42,
   "metadata": {},
   "outputs": [
    {
     "name": "stdout",
     "output_type": "stream",
     "text": [
      "21\n",
      "253\n",
      "-182\n",
      "362\n",
      "90\n"
     ]
    }
   ],
   "source": [
    "a = 0b_1011_0101\n",
    "b = 0b_0101_1101\n",
    "\n",
    "print(a & b)\n",
    "print(a | b)\n",
    "print(~a)\n",
    "print(a<<1)\n",
    "print(a>>1)\n"
   ]
  },
  {
   "cell_type": "markdown",
   "metadata": {},
   "source": [
    "### 成员测试\n",
    "#### 包含与否：in \\t not in\n",
    "#### 是与不是：is  \\t is not"
   ]
  },
  {
   "cell_type": "code",
   "execution_count": 47,
   "metadata": {},
   "outputs": [
    {
     "name": "stdout",
     "output_type": "stream",
     "text": [
      "True\n",
      "True\n",
      "False\n",
      "True\n"
     ]
    }
   ],
   "source": [
    "s1 = 'xiaobing'\n",
    "s2 = 'lxber'\n",
    "\n",
    "print('xiao' in s1)\n",
    "print('xiao' not in s2)\n",
    "print(s1 is s2)\n",
    "print(s1 is not s2)\n"
   ]
  },
  {
   "cell_type": "markdown",
   "metadata": {},
   "source": [
    "## 表达式"
   ]
  },
  {
   "cell_type": "markdown",
   "metadata": {},
   "source": [
    "### 三元表达式\n",
    "#### result = a if (True) else b"
   ]
  },
  {
   "cell_type": "code",
   "execution_count": 52,
   "metadata": {},
   "outputs": [
    {
     "name": "stdout",
     "output_type": "stream",
     "text": [
      "lxber\n"
     ]
    }
   ],
   "source": [
    "a = 10\n",
    "a = \"lxber\" if a > 3 else \"xiaobing\"\n",
    "print(a)\n"
   ]
  },
  {
   "cell_type": "markdown",
   "metadata": {},
   "source": [
    "### lambda表达式\n",
    "#### 使简单功能的代码实现更简单"
   ]
  },
  {
   "cell_type": "code",
   "execution_count": 53,
   "metadata": {},
   "outputs": [
    {
     "name": "stdout",
     "output_type": "stream",
     "text": [
      "3\n"
     ]
    }
   ],
   "source": [
    "add = lambda x, y : x + y \n",
    "print(add(1,2))"
   ]
  },
  {
   "cell_type": "markdown",
   "metadata": {},
   "source": [
    "### zip表达式\n",
    "#### 列表的同位合并成tuple，如 list(zip([1,2,3], [4,5,6])) = [(1,4), (2,5), (3,6)]"
   ]
  },
  {
   "cell_type": "code",
   "execution_count": 57,
   "metadata": {},
   "outputs": [
    {
     "name": "stdout",
     "output_type": "stream",
     "text": [
      "<zip object at 0x000001E16606D448>\n",
      "[(1, 4), (2, 5), (3, 6)]\n",
      "0.5 2\n",
      "1.0 2\n",
      "1.5 3\n"
     ]
    }
   ],
   "source": [
    "a = [1, 2, 3]\n",
    "b = [4, 5, 6]\n",
    "ab = zip(a, b)\n",
    "\n",
    "print(ab)\n",
    "\n",
    "print(list(ab)) \n",
    "\n",
    "ab = zip(a, b)\n",
    "for i,j in ab:\n",
    "    print(i/2,j//2)\n"
   ]
  },
  {
   "cell_type": "markdown",
   "metadata": {},
   "source": [
    "### map表达式\n",
    "#### map使函数和参数绑定在一起, 如map(add,[1,2,3],[2,3,4]) "
   ]
  },
  {
   "cell_type": "code",
   "execution_count": 59,
   "metadata": {},
   "outputs": [
    {
     "name": "stdout",
     "output_type": "stream",
     "text": [
      "[3, 5, 7]\n"
     ]
    }
   ],
   "source": [
    "add = lambda x, y : x + y \n",
    "\n",
    "m = map(add,[1,2,3],[2,3,4])\n",
    "\n",
    "print(list(m)) \n"
   ]
  },
  {
   "cell_type": "markdown",
   "metadata": {},
   "source": [
    "## 集合对象"
   ]
  },
  {
   "cell_type": "markdown",
   "metadata": {},
   "source": [
    "### 列表\n",
    "#### l =  list(iterable), \n",
    "#### l = []\n",
    "#### l = [x for x in iterable]\n",
    "#### 索引值从0~len(l)-1，倒序的索引-1~-len(l)\n",
    "#### 切片：一次使用多个值，如 a = l[0:10]，注：左闭右开，不包括l[10]"
   ]
  },
  {
   "cell_type": "code",
   "execution_count": 68,
   "metadata": {},
   "outputs": [
    {
     "name": "stdout",
     "output_type": "stream",
     "text": [
      "[4, 5, 6, 7]\n",
      "[0, 1, 2, 3, 4, 5, 6, 7, 8, 9]\n",
      "1\n",
      "2\n",
      "3\n",
      "4\n",
      "5\n",
      "6\n",
      "7\n",
      "8\n",
      "9\n"
     ]
    }
   ],
   "source": [
    "a_list = [4,5,6,7]\n",
    "print(a_list)\n",
    "\n",
    "a_list = [x for x in range(10)]\n",
    "\n",
    "print(a_list)\n",
    "\n",
    "#二维列表\n",
    "b=[[1,2,3],[4,5,6],[7,8,9]]\n",
    "\n",
    "for i in range(3):\n",
    "    for j in range(3):\n",
    "        print(b[i][j])\n",
    "        "
   ]
  },
  {
   "cell_type": "markdown",
   "metadata": {},
   "source": [
    "### 多维列表"
   ]
  },
  {
   "cell_type": "code",
   "execution_count": 3,
   "metadata": {},
   "outputs": [
    {
     "name": "stdout",
     "output_type": "stream",
     "text": [
      "[[1, 2, 3], [1, 2, 3], [1, 2, 3]]\n",
      "[[1, 10, 3], [1, 10, 3], [1, 10, 3]]\n",
      "[[1, 2, 3], [1, 2, 3], [1, 2, 3]]\n",
      "[[1, -2, 3], [1, 2, 3], [1, 2, 3]]\n",
      "[[[1, 2, 3], [1, 2, 3], [1, 2, 3]], [[1, 2, 3], [1, 2, 3], [1, 2, 3]], [[1, 2, 3], [1, 2, 3], [1, 2, 3]]]\n",
      "[[[1, -2, 3], [1, 2, 3], [1, 2, 3]], [[1, -2, 3], [1, 2, 3], [1, 2, 3]], [[1, -2, 3], [1, 2, 3], [1, 2, 3]]]\n",
      "[[0, 0, 0], [-1, 0, 0]]\n",
      "[[[0, 0, 0, 0], [0, 0, 0, 0], [0, 0, 0, 0]], [[0, 0, 0, 0], [-1, 0, 0, 0], [0, 0, 0, 0]]]\n",
      "[[[None, None], [None, None], [None, None]], [[None, None], [None, None], [None, None]], [[None, None], [None, None], [None, None]], [[None, None], [None, None], [None, -1]]]\n"
     ]
    }
   ],
   "source": [
    "## 创建二维列表方式一\n",
    "a = [[1,2,3]]*3\n",
    "print(a)\n",
    "\n",
    "a[0][1] = 10\n",
    "print(a)\n",
    "\n",
    "## 避免浅拷贝\n",
    "a = [[1,2,3] for i in range(3)]\n",
    "print(a)\n",
    "\n",
    "a[0][1] = -2\n",
    "print(a)\n",
    "\n",
    "## 创建三维数组\n",
    "# 第一步，先创建二维数组\n",
    "b2 = [[1,2,3] for i in range(3)]\n",
    "# 第二步，通过二维数组创建三维数组\n",
    "b3 = [b2 for i in range(3)]\n",
    "print(b3)\n",
    "\n",
    "b3[0][0][1] = -2\n",
    "print(b3)\n",
    "\n",
    "## 创建m*n维的列表\n",
    "def d1list(col = 1, default = None):\n",
    "    return [default]*col\n",
    "\n",
    "def d2list(rol, col, default = None):\n",
    "#     ls = [default] * rol\n",
    "#     for r in range(rol):\n",
    "#         ls[r] = [default]*col\n",
    "    \n",
    "    ls = [[default]*col for _ in range(rol)]\n",
    "    \n",
    "    return ls\n",
    "\n",
    "a = d2list(2,3,0)\n",
    "a[1][0] = -1\n",
    "print(a)\n",
    "\n",
    "def d3list(high, rol, col, default = None):\n",
    "#     ls = [default] * high\n",
    "#     for h in range(high):\n",
    "#         ls[h] = [default]*rol\n",
    "#         for r in range(rol):\n",
    "#             ls[h][r] = [default] * col\n",
    "    \n",
    "    ls = [[default]*rol for _ in range(high)]\n",
    "    for h in range(high):\n",
    "        for r in range(rol):\n",
    "            ls[h][r] = [default] * col\n",
    "    \n",
    "    return ls\n",
    "\n",
    "a = d3list(2,3,4,0)\n",
    "a[1][1][0] = -1\n",
    "print(a)\n",
    "\n",
    "import copy\n",
    "\n",
    "def mnlist(default = None, *dim):\n",
    "    dim = list(dim)\n",
    "    dim.reverse()\n",
    "    ls = [default]*dim[0]\n",
    "    for i in range(1,len(dim)):\n",
    "        ls = [ copy.deepcopy(ls) for _ in range(dim[i]) ] #没问题\n",
    "        \n",
    "    return ls\n",
    "\n",
    "a = mnlist(None,4,3,2)\n",
    "a[3][2][1] = -1\n",
    "print(a)\n"
   ]
  },
  {
   "cell_type": "markdown",
   "metadata": {},
   "source": [
    "### 元组tuple\n",
    "#### t = tuple(1,2,3), 元组为不可变对象，即指向元素的引用不变"
   ]
  },
  {
   "cell_type": "code",
   "execution_count": 62,
   "metadata": {},
   "outputs": [
    {
     "name": "stdout",
     "output_type": "stream",
     "text": [
      "(1, 2, 3, 4)\n"
     ]
    }
   ],
   "source": [
    "a_tuple = (1,2,3,4)\n",
    "print(a_tuple)\n"
   ]
  },
  {
   "cell_type": "markdown",
   "metadata": {},
   "source": [
    "### 字典\n",
    "#### d = dict() 或者 d = {}，键值对"
   ]
  },
  {
   "cell_type": "code",
   "execution_count": 69,
   "metadata": {},
   "outputs": [
    {
     "name": "stdout",
     "output_type": "stream",
     "text": [
      "lixiaobing\n",
      "name lixiaobing\n",
      "age 27\n",
      "sex femeal\n"
     ]
    }
   ],
   "source": [
    "d={'name':'lixiaobing','age':27,'sex':'femeal'}\n",
    "print(d['name'])\n",
    "for k, v in d.items():\n",
    "    print(k,v)"
   ]
  },
  {
   "cell_type": "markdown",
   "metadata": {},
   "source": [
    "### 多级字典"
   ]
  },
  {
   "cell_type": "code",
   "execution_count": 75,
   "metadata": {
    "scrolled": true
   },
   "outputs": [
    {
     "name": "stdout",
     "output_type": "stream",
     "text": [
      "a {'a1': [], 'b1': [6], 'c1': [], 'd1': [2], 'total': 2}\n",
      "b {'a1': [9], 'b1': [], 'c1': [3, 7], 'd1': [], 'total': 3}\n",
      "c {'a1': [4], 'b1': [5], 'c1': [8], 'd1': [], 'total': 3}\n",
      "a {'d1': [2], 'total': 2, 'b1': [6]}\n",
      "b {'c1': [3, 7], 'total': 3, 'a1': [9]}\n",
      "c {'a1': [4], 'total': 3, 'b1': [5], 'c1': [8]}\n",
      "None\n",
      "if key is not in dict, the value is None\n",
      "0\n",
      "0\n",
      "0\n",
      "{'default': None}\n",
      "create\n",
      "{'a1': {'b1': {'c1': 0, 'c2': 0}, 'b2': {'c1': 0, 'c2': 0}}, 'a2': {'b1': {'c1': 0, 'c2': 0}, 'b2': {'c1': 0, 'c2': 0}}} 3\n",
      "get value\n",
      "0\n",
      "{'a1': {'b1': {'c1': 0, 'c2': 0}, 'b2': {'c1': 0, 'c2': 0}}, 'a2': {'b1': {'c1': 0, 'c2': 0}, 'b2': {'c1': 0, 'c2': 0}}}\n",
      "ref \n",
      "{'c1': 0, 'c2': 0}\n",
      "{'a1': {'b1': {'c1': 1, 'c2': 0}, 'b2': {'c1': 0, 'c2': 0}}, 'a2': {'b1': {'c1': 0, 'c2': 0}, 'b2': {'c1': 0, 'c2': 0}}}\n",
      "ref \n",
      "{'c1': 0, 'c2': 0}\n",
      "{'a1': {'b1': {'c1': 1, 'c2': 0}, 'b2': {'c1': 0, 'c2': 0}}, 'a2': {'b1': {'c1': -2, 'c2': 0}, 'b2': {'c1': 0, 'c2': 0}}}\n",
      "check\n",
      "del\n",
      "update\n",
      "get value\n",
      "traverse values\n",
      "keyroute traverse values\n",
      "0 []\n",
      "1 []\n",
      "2 []\n",
      "3 [1]\n",
      "2 [1]\n",
      "3 [1, 0]\n",
      "0 [1, 0]\n",
      "1 [1, 0]\n",
      "2 [1, 0]\n",
      "3 [1, 0, -2]\n",
      "2 [1, 0, -2]\n",
      "3 [1, 0, -2, 0]\n",
      "[1, 0, -2, 0]\n",
      "[['a00', 'a01', 'a02', 'a03', 'a04'], ['a10', 'a01', 'a02', 'a13', 'a04'], ['a20', 'a11', 'a12', 'a23', 'a14'], ['a30', 'a11', 'a12', 'a33', 'a14'], ['a40', 'a21', 'a22', 'a43', 'a24'], ['a50', 'a21', 'a22', 'a53', 'a24'], ['a60', 'a31', 'a32', 'a63', 'a34'], ['a70', 'a31', 'a32', 'a73', 'a34'], ['a80', 'a41', 'a42', 'a83', 'a44'], ['a90', 'a41', 'a42', 'a93', 'a44']]\n",
      "create dict from datas\n",
      "{'a01': {'a02': {'a04': ['a00', 'a10']}}, 'a11': {'a12': {'a14': ['a20', 'a30']}}, 'a21': {'a22': {'a24': ['a40', 'a50']}}, 'a31': {'a32': {'a34': ['a60', 'a70']}}, 'a41': {'a42': {'a44': ['a80', 'a90']}}}\n",
      "traverse values\n",
      "ref \n",
      "keyroute traverse values\n"
     ]
    }
   ],
   "source": [
    "\n",
    "keys = ['a','b','c']\n",
    "key1s = ['a1','b1','c1','d1']\n",
    "datas = [['a','d1',2],['b','c1',3],['c','a1',4],['c','b1',5],['a','b1',6],['b','c1',7],['c','c1',8],['b','a1',9]]\n",
    "\n",
    "## 二级字典创建方式一：\n",
    "## 第一步，先创建完整字典\n",
    "dt = {}\n",
    "for k in keys:\n",
    "    dt[k] = {}\n",
    "    for k1 in key1s:\n",
    "        dt[k][k1] = []\n",
    "    if 'total' not in dt[k]:\n",
    "        dt[k]['total'] = 0\n",
    "\n",
    "## 第二步，通过数据为字典添加元素\n",
    "for d in datas:\n",
    "    key = d[0]\n",
    "    key1 = d[1]\n",
    "    data = d[2]\n",
    "    dt[key][key1].append(data)\n",
    "    dt[key]['total'] += 1\n",
    "\n",
    "for k,v in dt.items():\n",
    "    print(k,v)\n",
    "\n",
    "## 二级字典创建方式二：\n",
    "## 通过数据直接创建字典并为字典添加元素\n",
    "dt = {}\n",
    "for d in datas:\n",
    "    key = d[0]\n",
    "    key1 = d[1]\n",
    "    data = d[2]\n",
    "    if key not in dt:\n",
    "        dt[key] = {}\n",
    "    if key1 not in dt[key]:\n",
    "        dt[key][key1] = []\n",
    "    if 'total' not in dt[key]:\n",
    "        dt[key]['total'] = 0\n",
    "    dt[key][key1].append(data)\n",
    "    dt[key]['total'] += 1\n",
    "\n",
    "for k,v in dt.items():\n",
    "    print(k,v)\n",
    "    \n",
    "\n",
    "print(dt.get('a').get('c1')) #default:None\n",
    "\n",
    "if dt.get('a').get('c1') == None:\n",
    "    print(\"if key is not in dict, the value is None\")\n",
    "\n",
    "print(dt.get('a').get('c1', 0)) #default:0\n",
    "\n",
    "print(dt.get('d',{}).get('c1', 0)) #打印0,因此默认值和\n",
    "\n",
    "print(len([]))\n",
    "\n",
    "\n",
    "#根据数据列表自动创建字典，字典的级数由数据本身的字段决定\n",
    "\n",
    "# dt = {}\n",
    "def layer1dict(keys = ['default'], default = None, dt={}):\n",
    "    for key in keys:\n",
    "        dt[key] = default\n",
    "    return dt\n",
    "\n",
    "d = layer1dict()\n",
    "print(d)\n",
    "\n",
    "#多级字典先创建后使用\n",
    "#深度优先搜索创建多级字典，默认值也为一个字典\n",
    "def layersdict(keys = [['default']], curlayer = 0, dt = {}):\n",
    "    if curlayer == len(keys):\n",
    "        return dt\n",
    "    for key in keys[curlayer]:\n",
    "        dt[key] = {}\n",
    "        layersdict(keys, curlayer + 1, dt[key])\n",
    "    return dt\n",
    "\n",
    "#指定默认值\n",
    "def layersdictdefault(keys = [['default']], default = None, curlayer = 0, dt={}):\n",
    "    if curlayer == len(keys):\n",
    "        return dt\n",
    "    for key in keys[curlayer]:\n",
    "        dt[key] = {}\n",
    "        if curlayer == len(keys) - 1:\n",
    "            dt[key] = default\n",
    "        layersdictdefault(keys, default, curlayer + 1, dt[key])\n",
    "    return dt\n",
    "\n",
    "\n",
    "def operatekeyroutecore(dt, keyroute, operator, flag_succ = True, flag_invalid = None, curlayer = 0):\n",
    "    #operator = 'chek', 'del', 'ref', 'val' is that 'check', 'delete', 'get dict reference of vlaue', 'get value'\n",
    "    if len(keyroute) is 0 or len(dt) is 0:\n",
    "        return flag_invalid\n",
    "    key = keyroute[curlayer]\n",
    "    if key not in dt:\n",
    "        return flag_invalid\n",
    "    else:\n",
    "        if curlayer is len(keyroute) - 1:\n",
    "            if operator is 'chek':\n",
    "                return falg_succ\n",
    "            elif operator is 'del':\n",
    "                del dt[key]\n",
    "                return flag_succ\n",
    "            elif operator is 'ref':\n",
    "                return dt\n",
    "            elif operator is 'val':\n",
    "                return dt[key]\n",
    "            else:\n",
    "                return flag_invalid\n",
    "        if type(dt[key]) is not dict:\n",
    "            return flag_invalid\n",
    "        return operatekeyroutecore(dt[key], keyroute, operator, flag_succ, flag_invalid, curlayer + 1)\n",
    "    \n",
    "def operatekeyroute(dt = {}, keyroute = ['default'], operator = 'chek', flag_succ = True, flag_invalid = None):\n",
    "    if type(dt) is not dict or type(keyroute) is not list:\n",
    "        return flag_invalid\n",
    "    return operatekeyroutecore(dt, keyroute, operator, flag_succ, flag_invalid, 0)\n",
    "\n",
    "def checkkeyroute(dt = {}, keyroute = ['default']):\n",
    "    return operatekeyroute(dt, keyroute, 'chek', True,  False)\n",
    "\n",
    "def dellayersdict(dt = {}, keyroute = ['default']):\n",
    "    return operatekeyroute(dt, keyroute, 'del', True,  False)\n",
    "\n",
    "def reflayersdict(dt = {}, keyroute = ['default']):\n",
    "    return operatekeyroute(dt, keyroute, 'ref', True,  None)\n",
    "\n",
    "def getlayersdictvalue(dt = {}, keyroute = ['default']):\n",
    "    return operatekeyroute(dt, keyroute, 'val', True,  None)\n",
    "\n",
    "def traversevalues(dt = {}, values = []):\n",
    "    if type(dt) is not dict:\n",
    "        values.append(dt)\n",
    "        return values\n",
    "    for key in dt.keys():\n",
    "        traversevalues(dt[key], values)\n",
    "    return values\n",
    "\n",
    "def traversekeyvalues(dt = {}, keyroute = ['*'], values = [], curlayer = 0):\n",
    "    if type(dt) is not dict:\n",
    "        values.append(dt)\n",
    "        print(curlayer, values)\n",
    "        return values\n",
    "    for key in dt.keys():\n",
    "        if curlayer < len(keyroute):\n",
    "            if keyroute[curlayer] in key or keyroute[curlayer] is '*':\n",
    "                print(curlayer, values)\n",
    "                traversekeyvalues(dt[key], keyroute, values, curlayer+1)\n",
    "        else:\n",
    "            print(curlayer, values)\n",
    "            traversekeyvalues(dt[key], keyroute, values, curlayer+1)\n",
    "    return values\n",
    "\n",
    "def updatelayersdict(dt = {}, keyroute = ['default'], default = None, curlayer = 0):\n",
    "    if len(keyroute) == 0:\n",
    "        return None\n",
    "    key = keyroute[curlayer]\n",
    "    if key not in dt:\n",
    "        dt[key] = {}\n",
    "    if curlayer == len(keyroute) - 1:\n",
    "        dt[key] = default\n",
    "        if type(default) is list or type(default) is dict:\n",
    "            return default\n",
    "        else:\n",
    "            return dt\n",
    "    else:\n",
    "        if type(dt[key]) != dict:\n",
    "            dt[key] = {}\n",
    "        return updatelayersdict(dt[key], keyroute, default, curlayer + 1)\n",
    "\n",
    "\n",
    "# def checkkeyroute(dt = {}, keyroute = ['default'],  curlayer = 0):\n",
    "#     if len(keyroute) is 0 or len(dt) is 0:\n",
    "#         return False\n",
    "#     key = keyroute[curlayer]\n",
    "#     if key not in dt:\n",
    "#         return False\n",
    "#     else:\n",
    "#         if curlayer is len(keyroute) - 1:\n",
    "#             return True\n",
    "#         if type(dt[key]) is not dict:\n",
    "#             return False\n",
    "#         return checkkeyroute(dt[key], keyroute, curlayer + 1)\n",
    "    \n",
    "# def dellayersdict(dt = {}, keyroute = ['default'],  curlayer = 0):\n",
    "#     if len(keyroute) is 0 or len(dt) is 0:\n",
    "#         return None\n",
    "#     key = keyroute[curlayer]\n",
    "#     if key not in dt:\n",
    "#         return None\n",
    "#     else:\n",
    "#         if curlayer is len(keyroute) - 1:\n",
    "#             del dt[key]\n",
    "#             return True\n",
    "#         if type(dt[key]) is not dict:\n",
    "#             return None\n",
    "#         return dellayersdict(dt[key], keyroute, curlayer + 1)7\n",
    "\n",
    "# def reflayersdict(dt = {}, keyroute = ['default'],  curlayer = 0):\n",
    "#     if len(keyroute) is 0 or len(dt) is 0:\n",
    "#         return None\n",
    "#     key = keyroute[curlayer]\n",
    "#     if key not in dt:\n",
    "#         return None\n",
    "#     else:\n",
    "#         if curlayer is len(keyroute) - 1:\n",
    "#             return dt\n",
    "#         if type(dt[key]) is not dict:\n",
    "#             return None\n",
    "#         return reflayersdict(dt[key], keyroute, curlayer + 1)\n",
    "\n",
    "# def getlayersdictvalue(dt = {}, keyroute = ['default'],  curlayer = 0):\n",
    "#     if len(keyroute) is 0 or len(dt) is 0:\n",
    "#         return None\n",
    "#     key = keyroute[curlayer]\n",
    "#     if key not in dt:\n",
    "#         return None\n",
    "#     else:\n",
    "#         if curlayer is len(keyroute) - 1:\n",
    "#             return dt[key]\n",
    "#         if type(dt[key]) is not dict:\n",
    "#             return None\n",
    "#         return getlayersdictvalue(dt[key], keyroute, curlayer + 1)\n",
    "    \n",
    "    \n",
    "    \n",
    "#从数据流中构建字典示例\n",
    "def layersdictfromdatas(datas, dt = {}):\n",
    "    for data in datas:\n",
    "        keyroute = [data[1],data[2],data[4]]\n",
    "        val = getlayersdictvalue(dt, keyroute)\n",
    "        if val is None:\n",
    "            val = [data[0]]\n",
    "            updatelayersdict(dt, keyroute, val)\n",
    "        else:\n",
    "            val.append(data[0])\n",
    "    return dt\n",
    "    \n",
    "    \n",
    "import copy\n",
    "print(\"create\")\n",
    "# d = layersdict()\n",
    "# print(\"d\",d)\n",
    "# d = layersdict([['a1','a2'],['b1','b2'],['c1','c2']])\n",
    "# print(\"d\",d)\n",
    "d = layersdictdefault([['a1','a2'],['b1','b2'],['c1','c2']], 0)\n",
    "layers = 3\n",
    "print(d,layers)\n",
    "print(\"get value\")\n",
    "value = getlayersdictvalue(d, ['a1','b1','c1'])\n",
    "print(value)\n",
    "value += 1\n",
    "print(d)\n",
    "\n",
    "print(\"ref \")\n",
    "refval = reflayersdict(d, ['a1','b1','c1'])\n",
    "print(refval)\n",
    "refval['c1']+=1\n",
    "print(d)\n",
    "\n",
    "print(\"ref \")\n",
    "refval = reflayersdict(d, ['a2','b1','c1'])\n",
    "print(refval)\n",
    "refval['c1']+=-2\n",
    "print(d)\n",
    "\n",
    "print(\"check\")\n",
    "# print(checkkeyroute({}, ['a1']))\n",
    "# print(checkkeyroute(d, []))\n",
    "# print(checkkeyroute(d, ['a1']))\n",
    "# print(checkkeyroute(d, ['a1','b2']))\n",
    "# print(checkkeyroute(d, ['a1','b2','c2']))\n",
    "# print(checkkeyroute(d, ['a1','b2','c2','d']))\n",
    "# print(checkkeyroute(d, ['d']))\n",
    "print(\"del\")\n",
    "# dellayersdict({}, ['a1'])\n",
    "# print(d)\n",
    "# dellayersdict(d, [])\n",
    "# print(d)\n",
    "# dellayersdict(d, ['d'])\n",
    "# print(d)\n",
    "# dellayersdict(d, ['a1','b1','c1','d1'])\n",
    "# print(d)\n",
    "# dellayersdict(d, ['a1','b1','c1'])\n",
    "# print(d)\n",
    "# dellayersdict(d, ['a1','b2'])\n",
    "# print(d)\n",
    "# dellayersdict(d, ['a2'])\n",
    "# print(d)\n",
    "\n",
    "print(\"update\")\n",
    "# print(updatelayersdict(d, [], 0))\n",
    "# print(d)\n",
    "# print(updatelayersdict(d, ['a3'], 0))\n",
    "# print(d)\n",
    "# print(updatelayersdict(d, ['a4','b5'], 0))\n",
    "# print(d)\n",
    "# print(updatelayersdict(d, ['a1','b1','c1'], [-1]))\n",
    "# print(d)\n",
    "# print(updatelayersdict(d, ['a2','b1','c2'], ['abc']))\n",
    "# print(d)\n",
    "# print(updatelayersdict(d, ['a1','b2'], {'c1':0,'c2':0,'c3':0}))\n",
    "# print(d)\n",
    "# print(updatelayersdict(d, ['a1','b2','c3','d1'], 0))\n",
    "# print(d)\n",
    "\n",
    "print(\"get value\")\n",
    "# val = layersdictvalue(d, keyroute = ['a1'])\n",
    "# print(val)\n",
    "# val = 1\n",
    "# print(d)\n",
    "\n",
    "print(\"traverse values\")\n",
    "# valuesin = []\n",
    "# values = traversevalues(d, valuesin)\n",
    "# print(valuesin)\n",
    "# print(values)\n",
    "\n",
    "print(\"keyroute traverse values\")\n",
    "values = traversekeyvalues(d, ['*','b1','c'])\n",
    "print(values)\n",
    "\n",
    "\n",
    "#创建数据\n",
    "rol = 10\n",
    "col = 5\n",
    "datalist = mnlist(None, rol, col)\n",
    "for r in range(rol):\n",
    "    for c in range(col):\n",
    "        datalist[r][c] = 'a' + str(c)\n",
    "#指定键\n",
    "keys = [1,4,2]\n",
    "\n",
    "#制造数据\n",
    "for r in range(rol):\n",
    "    value = str('a'+str(r//2))\n",
    "    for c in range(col):\n",
    "        if c not in keys:\n",
    "            datalist[r][c] = 'a' + str(r)+str(c)\n",
    "        else:\n",
    "            datalist[r][c] = value + str(c)\n",
    "            \n",
    "print(datalist)\n",
    "print(\"create dict from datas\")\n",
    "#生成字典\n",
    "dt = {}\n",
    "layersdictfromdatas(datalist, dt)\n",
    "print(dt)\n",
    "\n",
    "print(\"traverse values\")\n",
    "# valuesin = []\n",
    "# values = traversevalues(dt, valuesin)\n",
    "# print(valuesin)\n",
    "# print(values)\n",
    "\n",
    "print(\"ref \")\n",
    "# refval = reflayersdict(dt, ['a01','a02','a04'])\n",
    "# print(refval)\n",
    "# refval['a04'].append('aaaa')\n",
    "# print(dt)\n",
    "\n",
    "print(\"keyroute traverse values\")\n",
    "# values = traversekeyvalues(dt, ['*','a12'])\n",
    "# print(values)\n",
    "\n",
    "# #将字典转成json字符串并输出到txt文件\n",
    "# import json\n",
    "# print(json.dumps(dt))\n",
    "\n",
    "#从txt文件获得字典\n"
   ]
  },
  {
   "cell_type": "code",
   "execution_count": 56,
   "metadata": {},
   "outputs": [
    {
     "name": "stdout",
     "output_type": "stream",
     "text": [
      "1\n",
      "2\n",
      "3\n",
      "4\n",
      "5\n",
      "6\n",
      "<class 'list'>\n",
      "{'a01': {'a02': {'a04': {'a05': ['a00', 'a10', 'aaaa']}}}, 'a11': {'a12': {'a14': {'a15': ['a20', 'a30']}}}, 'a21': {'a22': {'a24': {'a25': ['a40', 'a50']}}}, 'a31': {'a32': {'a34': {'a35': ['a60', 'a70']}}}, 'a41': {'a42': {'a44': {'a45': ['a80', 'a90']}}}}\n",
      "{\n",
      "    \"a01\": {\n",
      "        \"a02\": {\n",
      "            \"a04\": {\n",
      "                \"a05\": [\n",
      "                    \"a00\",\n",
      "                    \"a10\",\n",
      "                    \"aaaa\"\n",
      "                ]\n",
      "            }\n",
      "        }\n",
      "    },\n",
      "    \"a11\": {\n",
      "        \"a12\": {\n",
      "            \"a14\": {\n",
      "                \"a15\": [\n",
      "                    \"a20\",\n",
      "                    \"a30\"\n",
      "                ]\n",
      "            }\n",
      "        }\n",
      "    },\n",
      "    \"a21\": {\n",
      "        \"a22\": {\n",
      "            \"a24\": {\n",
      "                \"a25\": [\n",
      "                    \"a40\",\n",
      "                    \"a50\"\n",
      "                ]\n",
      "            }\n",
      "        }\n",
      "    },\n",
      "    \"a31\": {\n",
      "        \"a32\": {\n",
      "            \"a34\": {\n",
      "                \"a35\": [\n",
      "                    \"a60\",\n",
      "                    \"a70\"\n",
      "                ]\n",
      "            }\n",
      "        }\n",
      "    },\n",
      "    \"a41\": {\n",
      "        \"a42\": {\n",
      "            \"a44\": {\n",
      "                \"a45\": [\n",
      "                    \"a80\",\n",
      "                    \"a90\"\n",
      "                ]\n",
      "            }\n",
      "        }\n",
      "    }\n",
      "}\n",
      "{'a01': {'a02': {'a04': {'a05': ['a00', 'a10', 'aaaa']}}}, 'a11': {'a12': {'a14': {'a15': ['a20', 'a30']}}}, 'a21': {'a22': {'a24': {'a25': ['a40', 'a50']}}}, 'a31': {'a32': {'a34': {'a35': ['a60', 'a70']}}}, 'a41': {'a42': {'a44': {'a45': ['a80', 'a90']}}}}\n"
     ]
    },
    {
     "data": {
      "text/plain": [
       "{'a02': {'a04': {'a05': ['a00', 'a10', 'aaaa']}}}"
      ]
     },
     "execution_count": 56,
     "metadata": {},
     "output_type": "execute_result"
    }
   ],
   "source": [
    "int('011')\n",
    "ls = [[1,2,3],[4,5,6]]\n",
    "for idx in range(2):\n",
    "    for l in ls[idx]:\n",
    "        print(l)\n",
    "len(ls)\n",
    "print(type(ls))\n",
    "\n",
    "d = {'a':{'c':1},'b':2}\n",
    "len(d)\n",
    "type(d) == dict\n",
    "print(dt)\n",
    "\n",
    "def dicttojsonstr(dt,indent = 4, sort_keys = True):\n",
    "    return json.dumps(dt, sort_keys = sort_keys, indent =indent)\n",
    "\n",
    "def dictfromjsonstr(strjson):\n",
    "    return json.loads(strjson)\n",
    "\n",
    "def dicttofileinjson(dt,filename = 'dictjson.txt',filepath = '.\\\\', modle = 'w', indent = 4, sort_keys = True):\n",
    "    strjson = dicttojsonstr(dt, indent, sort_keys)\n",
    "    file = filepath+filename\n",
    "    with open(file,modle) as f:\n",
    "        f.write(strjson)\n",
    "\n",
    "def dictfromjsonfile(filename = 'dictjson.txt', filepath = '.\\\\', modle = 'r'):\n",
    "    dt = None\n",
    "    file = filepath+filename\n",
    "    with open(file,modle) as f:\n",
    "        dt = dictfromjsonstr(f.read())\n",
    "    return dt\n",
    "\n",
    "#将字典转成json文件\n",
    "import json\n",
    "# strjson = json.dumps(dt, sort_keys=True, indent=4)\n",
    "# print(strjson)\n",
    "# f = open('strjson.txt','w')\n",
    "# f.write(strjson)\n",
    "# f.close()\n",
    "\n",
    "dicttofileinjson(dt)\n",
    "\n",
    "# f = open('strjson.txt','r')\n",
    "# strjson = f.read()\n",
    "# jsonstr = json.loads(strjson)\n",
    "# print(jsonstr['a01'])\n",
    "ds = dictfromjsonfile('dictjson.txt', '.\\\\', 'r')\n",
    "print(ds)\n",
    "dt['a01']"
   ]
  },
  {
   "cell_type": "markdown",
   "metadata": {},
   "source": [
    "### set \n",
    "#### set里的元素没有重复"
   ]
  },
  {
   "cell_type": "code",
   "execution_count": 75,
   "metadata": {},
   "outputs": [
    {
     "name": "stdout",
     "output_type": "stream",
     "text": [
      "{1, 2, 3, 4, 5.5, 6.6, 7.7}\n",
      "{'o', 'a', 'c', 'z', 'b'}\n",
      "{'w', 'o', 'h', 'a', 'c', 'u', 'e', 'm', 't', 's', 'b', 'l', 'k', ' ', 'i', 'r'}\n",
      "{'w', 'o', 'h', 'a', 'c', 'u', 'e', 'm', 't', 'z', 's', 'b', 'l', 'k', ' ', 'i', 'r'}\n",
      "{'w', 'h', ' ', 'e', 'm', 't', 's', 'l', 'k', 'u', 'i', 'r'}\n",
      "{'b', 'o', 'a', 'c'}\n",
      "{'o', 'h', 'a', 'c', 'e', 'm', 'z', 'b', 'k', 'u', 's', ' ', 'r', 'w', 't', 'l', 'i'}\n",
      "{'w', 'h', ' ', 'e', 'm', 't', 's', 'l', 'k', 'u', 'i', 'r'}\n",
      "{'b', 'o', 'a', 'c'}\n"
     ]
    }
   ],
   "source": [
    "numbers=[2,1,2,4,3,3,1,4,4,6.6,5.5,7.7,7.7,5.5,6.6]\n",
    "chars=['a','a','b','b','c','c','c','z','z','o']\n",
    "content=\"welcome back to this tutorial\"\n",
    "chars_content = chars + list(content)\n",
    "print(set(numbers)) # 元素为数值类型，set后可以保证有序\n",
    "print(set(chars)) # set去重，set后并不能保证顺序\n",
    "print(set(content))\n",
    "print(set(chars_content))\n",
    "\n",
    "print(set(content).difference(set(chars)))   # 补集\n",
    "print(set(content).intersection(set(chars))) # 交集\n",
    "print(set(content) | set(chars))   # 并集\n",
    "print(set(content) - set(chars))   # 补集\n",
    "print(set(content) & set(chars))   # 交集\n"
   ]
  },
  {
   "cell_type": "markdown",
   "metadata": {},
   "source": [
    "## 异常处理"
   ]
  },
  {
   "cell_type": "code",
   "execution_count": null,
   "metadata": {},
   "outputs": [],
   "source": [
    "# try...执行语句...except...(异常类型1,2..)...as e...异常处理...else...没异常时执行语句...\n",
    "# try except as finally\n",
    "# raise xxExcept  抛出某个异常类型\n",
    "try:\n",
    "    file = open('file.txt','r+')\n",
    "except Exception as e:\n",
    "    print(e)\n",
    "    response = input('do you want to create a new file:')\n",
    "    if response == 'y':\n",
    "        file = open('file.txt','w+')\n",
    "    else:\n",
    "        pass\n",
    "else:\n",
    "    file.write('hello')\n",
    "    file.close()\n",
    "    "
   ]
  },
  {
   "cell_type": "markdown",
   "metadata": {},
   "source": [
    "## 函数"
   ]
  },
  {
   "cell_type": "code",
   "execution_count": 82,
   "metadata": {},
   "outputs": [
    {
     "name": "stdout",
     "output_type": "stream",
     "text": [
      "atr1:  1\n",
      "atr2:  3\n",
      "atr3:  ([1, 2, 3], {'a': 1, 'b': 2})\n",
      "atr4:  {}\n",
      "atr1:  1\n",
      "atr2:  [1, 2, 3]\n",
      "atr3:  ({'a': 1, 'b': 2},)\n",
      "atr4:  {}\n",
      "atr1:  1\n",
      "atr2:  1\n",
      "atr3:  (2, 3, {'a': 1, 'b': 2})\n",
      "atr4:  {}\n",
      "atr1:  1\n",
      "atr2:  3\n",
      "atr3:  ('a', 'b')\n",
      "atr4:  {}\n",
      "atr1:  1\n",
      "atr2:  3\n",
      "atr3:  ()\n",
      "atr4:  {'a': 1, 'b': 2}\n",
      "atr1:  1\n",
      "atr2:  3\n",
      "atr3:  ([1, 2, 3], {'a': 1, 'b': 2})\n",
      "atr4:  {'name': 'xiaobing', 'age': 27}\n"
     ]
    },
    {
     "data": {
      "text/plain": [
       "{'age': 27, 'name': 'xiaobing'}"
      ]
     },
     "execution_count": 82,
     "metadata": {},
     "output_type": "execute_result"
    }
   ],
   "source": [
    "# 自调用实现单元测试，\n",
    "# if __name__='__main()__':\n",
    "#       code_here\n",
    "# 如果执行该脚本的时候，该 if 判断语句将会是 True,那么内部的代码将会执行。 如果外部调用该脚本，if 判断语句则为 False,内部代码将不会执行\n",
    "\n",
    "# 函数非默认参数、默认参数,默认参数必须在非默认参数后面\n",
    "\n",
    "# 可变参数,必须在特定参数和默认参数后面,\n",
    "# def func_name(name, *args):\n",
    "#       for arg in args:\n",
    "#           ...\n",
    "# 调用示例：func_name(name,1,2) func_name(name,3,4,5,6)\n",
    "# 原理：内部组织成元组或列表\n",
    "\n",
    "# 关键字参数，必须在最后面,\n",
    "# def func_name(name, **kvargs):\n",
    "#       for k, v in kvargs.items():\n",
    "#           ...\n",
    "# 调用示例，result=func_name(name, id=1, age=27,country='china')\n",
    "# 原理，对传入的参数函数内部自动封装成字典\n",
    "\n",
    "# 通过可变对象和关键字对象可以概括出函数参数的通用形式\n",
    "# def func_name(name, id=1, *args, **kvargs):\n",
    "#       ...\n",
    "\n",
    "def get_attrs(atr1,atr2 = 2,*atr3,**atr4):\n",
    "    print(\"atr1: \",atr1)\n",
    "    print(\"atr2: \",atr2)\n",
    "    print(\"atr3: \",atr3)\n",
    "    print(\"atr4: \",atr4)\n",
    "    return atr4\n",
    "\n",
    "atr1 = 1\n",
    "atr2 = 3\n",
    "atr3 = [1,2,3]\n",
    "atr4 = {'a':1,'b':2}\n",
    "get_attrs(atr1,atr2,atr3,atr4)\n",
    "get_attrs(atr1,atr3,atr4)\n",
    "get_attrs(atr1,*atr3,atr4)\n",
    "get_attrs(atr1,atr2,*atr4)\n",
    "get_attrs(atr1,atr2,**atr4)\n",
    "get_attrs(atr1,atr2,atr3,atr4,name = 'xiaobing',age = 27)\n"
   ]
  },
  {
   "cell_type": "markdown",
   "metadata": {},
   "source": [
    "##  可迭代对象"
   ]
  },
  {
   "cell_type": "code",
   "execution_count": 83,
   "metadata": {},
   "outputs": [
    {
     "name": "stdout",
     "output_type": "stream",
     "text": [
      "1\n",
      "1\n",
      "2\n",
      "3\n",
      "5\n",
      "1\n",
      "1\n",
      "2\n",
      "3\n",
      "5\n"
     ]
    }
   ],
   "source": [
    "# 可迭代对象，设置迭代器\n",
    "# 需要实现__iter__和__next__函数\n",
    "class Fib(object):\n",
    "    def __init__(self, max):\n",
    "        self.max = max\n",
    "        self.n, self.a, self.b = 0,0,1\n",
    "\n",
    "    def __iter__(self):\n",
    "        return self\n",
    "\n",
    "    def __next__(self):\n",
    "        if self.n < self.max:\n",
    "            r = self.b\n",
    "            self.a, self.b = self.b, self.a+self.b\n",
    "            self.n = self.n +1\n",
    "            return r\n",
    "        raise StopIteration()\n",
    "\n",
    "for i in Fib(5):\n",
    "    print(i)\n",
    "\n",
    "# 可迭代对象，设置生成器yield\n",
    "# yield 语句每次 执行时，立即返回结果给上层调用者，而当前的状态仍然保留，以便迭代器下一次循环调用。这样做的 好处是在于节约硬件资源，在需要的时候才会执行，并且每次只执行一次\n",
    "def fib(max):\n",
    "    a,b=0,1\n",
    "    while max:\n",
    "        r=b\n",
    "        a,b=b,a+b\n",
    "        max-=1\n",
    "        yield r\n",
    "for i in fib(5):\n",
    "    print(i)\n",
    "\n"
   ]
  },
  {
   "cell_type": "markdown",
   "metadata": {},
   "source": [
    "## 正则表达式"
   ]
  },
  {
   "cell_type": "code",
   "execution_count": 84,
   "metadata": {},
   "outputs": [
    {
     "name": "stdout",
     "output_type": "stream",
     "text": [
      "True\n",
      "False\n",
      "<_sre.SRE_Match object; span=(12, 15), match='cat'>\n",
      "None\n",
      "<_sre.SRE_Match object; span=(4, 7), match='run'>\n",
      "None\n",
      "<_sre.SRE_Match object; span=(4, 7), match='run'>\n",
      "<_sre.SRE_Match object; span=(4, 7), match='r2n'>\n",
      "<_sre.SRE_Match object; span=(4, 7), match='run'>\n",
      "<_sre.SRE_Match object; span=(4, 7), match='r4n'>\n",
      "<_sre.SRE_Match object; span=(0, 3), match='run'>\n",
      "<_sre.SRE_Match object; span=(0, 3), match='r\\nn'>\n",
      "<_sre.SRE_Match object; span=(4, 7), match='r4n'>\n",
      "<_sre.SRE_Match object; span=(4, 7), match='r4n'>\n",
      "<_sre.SRE_Match object; span=(0, 3), match='r\\nn'>\n",
      "<_sre.SRE_Match object; span=(4, 8), match='runs'>\n",
      "<_sre.SRE_Match object; span=(4, 8), match='runs'>\n",
      "<_sre.SRE_Match object; span=(4, 9), match='runs\\\\'>\n",
      "<_sre.SRE_Match object; span=(0, 3), match='r[n'>\n",
      "<_sre.SRE_Match object; span=(0, 3), match='dog'>\n",
      "<_sre.SRE_Match object; span=(12, 15), match='cat'>\n",
      "<_sre.SRE_Match object; span=(0, 6), match='Monday'>\n",
      "<_sre.SRE_Match object; span=(0, 3), match='Mon'>\n",
      "\n",
      "dog runs to cat.\n",
      "I run to dog\n",
      "\n",
      "\n",
      "None\n",
      "<_sre.SRE_Match object; span=(18, 19), match='I'>\n",
      "<_sre.SRE_Match object; span=(0, 1), match='a'>\n",
      "<_sre.SRE_Match object; span=(0, 6), match='abbbbb'>\n",
      "None\n",
      "<_sre.SRE_Match object; span=(0, 6), match='abbbbb'>\n",
      "<_sre.SRE_Match object; span=(0, 6), match='abbbbb'>\n",
      "<_sre.SRE_Match object; span=(0, 6), match='abbbbb'>\n",
      "021523,Date:Feb/12/2017\n",
      "021523\n",
      "Feb/12/2017\n",
      "021523\n",
      "Feb/12/2017\n",
      "['run', 'ran']\n",
      "['run', 'ran']\n",
      "dog catches to cat\n",
      "['a', 'b', 'c', 'd', 'e']\n",
      "<_sre.SRE_Match object; span=(4, 7), match='ran'>\n",
      "<_sre.SRE_Match object; span=(5, 8), match='run'>\n"
     ]
    }
   ],
   "source": [
    "# 正则表达式\n",
    "# 字符串匹配\n",
    "pattern1 = 'cat'\n",
    "pattern2 = 'bird'\n",
    "string = \"dog runs to cat\"\n",
    "print(pattern1 in string)\n",
    "print(pattern2 in string)\n",
    "\n",
    "# 正则表达式的简单匹配\n",
    "# re.search()\n",
    "import re\n",
    "print(re.search(pattern1,string))\n",
    "print(re.search(pattern2,string))\n",
    "\n",
    "# 灵活匹配\n",
    "# []囊括可能的字符\n",
    "pattern = r\"r[au]n\"\n",
    "print(re.search(pattern,\"dog runs to cat\"))\n",
    "\n",
    "print(re.search(r\"r[A-Z]n\",\"dog runs to cat\"))\n",
    "print(re.search(r\"r[a-z]n\",\"dog runs to cat\"))\n",
    "print(re.search(r\"r[0-9]n\",\"dog r2ns to cat\"))\n",
    "print(re.search(r\"r[a-z0-9]n\",\"dog runs to cat\"))\n",
    "\n",
    "# 按类型匹配\n",
    "# \\d : 任何数字\n",
    "# \\D : 不是数字\n",
    "# \\s : 任何 white space, 如 [\\t\\n\\r\\f\\v]\n",
    "# \\S : 不是 white space\n",
    "# \\w : 任何大小写字母, 数字和 “” [a-zA-Z0-9]\n",
    "# \\W : 不是 \\w\n",
    "# \\b : 空白字符 (只在某个字的开头或结尾)\n",
    "# \\B : 空白字符 (不在某个字的开头或结尾)\n",
    "# \\\\ : 匹配 \\\n",
    "# . : 匹配任何字符 (除了 \\n)\n",
    "# ^ : 匹配开头\n",
    "# $ : 匹配结尾\n",
    "# ? : 前面的字符可有可无\n",
    "#\n",
    "# \\d: 任何数字\n",
    "print(re.search(r\"r\\dn\",\"run r4n\"))\n",
    "# \\D: 不是数字\n",
    "print(re.search(r\"r\\Dn\",\"run r4n\"))\n",
    "# \\s: 任何空白字符\n",
    "print(re.search(r\"r\\sn\",\"r\\nn r4n\"))\n",
    "# \\S: 不是空白字符\n",
    "print(re.search(r\"r\\Sn\",\"r\\nn r4n\"))\n",
    "# \\w: [a-zA-Z0-9]\n",
    "print(re.search(r\"r\\wn\",\"r\\nn r4n\"))\n",
    "# \\W: 不是\\w\n",
    "print(re.search(r\"r\\Wn\",\"r\\nn r4n\"))\n",
    "# \\b: 空白字符，但是只在某个字的开头或结尾\n",
    "print(re.search(r\"\\bruns\\b\",\"dog runs to cat\"))\n",
    "# \\B: 不是\\b\n",
    "print(re.search(r\"\\Bruns\\B\",\"dog_runs_to cat\"))\n",
    "# \\\\: 匹配特殊字符'\\'\n",
    "print(re.search(r\"runs\\\\\",\"dog runs\\ to cat\"))\n",
    "# .: 匹配除了\\n的字符\n",
    "print(re.search(r\"r.n\",\"r[ns to me\"))\n",
    "# ^: 匹配开头\n",
    "print(re.search(r\"^dog\",\"dog runs to cat\"))\n",
    "# $: 匹配结尾\n",
    "print(re.search(r\"cat$\",\"dog runs to cat\"))\n",
    "# ?: ?前面的字符可有可无\n",
    "print(re.search(r\"Mon(day)?\",\"Monday\"))\n",
    "print(re.search(r\"Mon(day)?\",\"Mon\"))\n",
    "\n",
    "# 多行匹配\n",
    "string = \"\"\"\n",
    "dog runs to cat.\n",
    "I run to dog\n",
    "\n",
    "\"\"\"\n",
    "print(string)\n",
    "print(re.search(r\"^I\",string))\n",
    "print(re.search(r\"^I\",string,flags = re.MULTILINE)) #flags = re.MULTILINE\n",
    "\n",
    "# 重复匹配\n",
    "# *: 重复零次或多次\n",
    "# +：重复一次或多次\n",
    "# {n,n}: 重复n至m次\n",
    "# {n}: 重复n次\n",
    "#\n",
    "# *: 重复零次或多次\n",
    "print(re.search(r\"ab*\",\"a\"))\n",
    "print(re.search(r\"ab*\",\"abbbbb\"))\n",
    "# +：重复一次或多次\n",
    "print(re.search(r\"ab+\",\"a\"))\n",
    "print(re.search(r\"ab+\",\"abbbbb\"))\n",
    "# {n}: 重复n次\n",
    "print(re.search(r\"ab{5}\",\"abbbbb\"))\n",
    "# {n,n}: 重复n至m次\n",
    "print(re.search(r\"ab{2,10}\",\"abbbbb\"))\n",
    "\n",
    "# 分组()\n",
    "match = re.search(r\"(\\d+),Date:(.+)\", \"ID:021523,Date:Feb/12/2017\")\n",
    "print(match.group())\n",
    "print(match.group(1))\n",
    "print(match.group(2))\n",
    "# 给分组起个名字(?P<name> )\n",
    "match = re.search(r\"(?P<id>\\d+),Date:(?P<date>.+)\", \"ID:021523,Date:Feb/12/2017\")\n",
    "print(match.group(\"id\"))\n",
    "print(match.group(\"date\"))\n",
    "\n",
    "# findall: 找到所有的匹配项，不止第一个匹配项\n",
    "print(re.findall(r\"r[ua]n\",\"run ran ren\"))\n",
    "# (a|b): a or b\n",
    "print(re.findall(r\"(ran|run)\",\"run ran ren\"))\n",
    "\n",
    "# re.sub(): 替换匹配上的字符串,比python自带的string.replace()灵活\n",
    "print(re.sub(r\"r[au]ns\",\"catches\",\"dog runs to cat\")) # catches为替换后的值\n",
    "\n",
    "# re.split(\"xxx\"): 分割字符\n",
    "print(re.split(r\"[,;\\.]\",\"a;b,c.d;e\"))\n",
    "\n",
    "# re.compile(): 重复使用正则模式\n",
    "compile_re = re.compile(r\"r[ua]n\")\n",
    "print(compile_re.search(\"dog ran to cat\"))\n",
    "print(compile_re.search(\"dogs run to cats\"))\n",
    "\n",
    "# 更多的正则，可以在网上搜索\n"
   ]
  },
  {
   "cell_type": "markdown",
   "metadata": {},
   "source": [
    "## 赋值= & 浅拷贝copy & 深拷贝deepcopy & id"
   ]
  },
  {
   "cell_type": "markdown",
   "metadata": {},
   "source": [
    "## 对象设计与面向对象编程（封装、继承、多态）"
   ]
  },
  {
   "cell_type": "markdown",
   "metadata": {},
   "source": [
    "## 包管理"
   ]
  },
  {
   "cell_type": "markdown",
   "metadata": {},
   "source": [
    "## 时间 日志 文件的使用"
   ]
  },
  {
   "cell_type": "code",
   "execution_count": 83,
   "metadata": {},
   "outputs": [
    {
     "data": {
      "text/plain": [
       "True"
      ]
     },
     "execution_count": 83,
     "metadata": {},
     "output_type": "execute_result"
    }
   ],
   "source": [
    "import os\n",
    "os.path.exists('a.txt')\n",
    "os.path.isfile('a.txt')\n",
    "os.access('a.txt',os.F_OK) #存在？\n",
    "os.access('a.txt',os.R_OK) #可读？\n",
    "os.access('a.txt',os.W_OK) #可写？\n",
    "os.access('a.txt',os.X_OK) #可执行？"
   ]
  },
  {
   "cell_type": "markdown",
   "metadata": {},
   "source": [
    "## 单元测试"
   ]
  },
  {
   "cell_type": "markdown",
   "metadata": {},
   "source": [
    "## 网络"
   ]
  },
  {
   "cell_type": "code",
   "execution_count": null,
   "metadata": {},
   "outputs": [],
   "source": []
  }
 ],
 "metadata": {
  "kernelspec": {
   "display_name": "Python 3",
   "language": "python",
   "name": "python3"
  },
  "language_info": {
   "codemirror_mode": {
    "name": "ipython",
    "version": 3
   },
   "file_extension": ".py",
   "mimetype": "text/x-python",
   "name": "python",
   "nbconvert_exporter": "python",
   "pygments_lexer": "ipython3",
   "version": "3.6.4"
  }
 },
 "nbformat": 4,
 "nbformat_minor": 2
}
