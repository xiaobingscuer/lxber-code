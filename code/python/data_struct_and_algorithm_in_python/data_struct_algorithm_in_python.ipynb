{
 "cells": [
  {
   "cell_type": "markdown",
   "metadata": {},
   "source": [
    "# data struct and algorithm in python\n",
    "#### #有价值的参考源：http://www.madmalls.com/blog/post/finding-the-largest-or-smallest-n-items-in-a-python3-collection/\n"
   ]
  },
  {
   "cell_type": "markdown",
   "metadata": {},
   "source": [
    "## 排序"
   ]
  },
  {
   "cell_type": "code",
   "execution_count": 6,
   "metadata": {},
   "outputs": [
    {
     "name": "stdout",
     "output_type": "stream",
     "text": [
      "原始modules\n",
      "9 xiaobing0 D:\\lxb\\lxb-coder\\python\n",
      "8 xiaobing1 D:\\lxb\\lxb-coder\\python\n",
      "7 xiaobing2 D:\\lxb\\lxb-coder\\python\n",
      "6 xiaobing3 D:\\lxb\\lxb-coder\\python\n",
      "5 xiaobing4 D:\\lxb\\lxb-coder\\python\n",
      "4 xiaobing5 D:\\lxb\\lxb-coder\\python\n",
      "3 xiaobing6 D:\\lxb\\lxb-coder\\python\n",
      "2 xiaobing7 D:\\lxb\\lxb-coder\\python\n",
      "1 xiaobing8 D:\\lxb\\lxb-coder\\python\n",
      "0 xiaobing9 D:\\lxb\\lxb-coder\\python\n",
      "list.sort()排序后的modules\n",
      "0 xiaobing9 D:\\lxb\\lxb-coder\\python\n",
      "1 xiaobing8 D:\\lxb\\lxb-coder\\python\n",
      "2 xiaobing7 D:\\lxb\\lxb-coder\\python\n",
      "3 xiaobing6 D:\\lxb\\lxb-coder\\python\n",
      "4 xiaobing5 D:\\lxb\\lxb-coder\\python\n",
      "5 xiaobing4 D:\\lxb\\lxb-coder\\python\n",
      "6 xiaobing3 D:\\lxb\\lxb-coder\\python\n",
      "7 xiaobing2 D:\\lxb\\lxb-coder\\python\n",
      "8 xiaobing1 D:\\lxb\\lxb-coder\\python\n",
      "9 xiaobing0 D:\\lxb\\lxb-coder\\python\n",
      "sorted()排序前的modules\n",
      "0 xiaobing9 D:\\lxb\\lxb-coder\\python\n",
      "1 xiaobing8 D:\\lxb\\lxb-coder\\python\n",
      "2 xiaobing7 D:\\lxb\\lxb-coder\\python\n",
      "3 xiaobing6 D:\\lxb\\lxb-coder\\python\n",
      "4 xiaobing5 D:\\lxb\\lxb-coder\\python\n",
      "5 xiaobing4 D:\\lxb\\lxb-coder\\python\n",
      "6 xiaobing3 D:\\lxb\\lxb-coder\\python\n",
      "7 xiaobing2 D:\\lxb\\lxb-coder\\python\n",
      "8 xiaobing1 D:\\lxb\\lxb-coder\\python\n",
      "9 xiaobing0 D:\\lxb\\lxb-coder\\python\n",
      "sorted()排序后的新的modules\n",
      "9 xiaobing0 D:\\lxb\\lxb-coder\\python\n",
      "8 xiaobing1 D:\\lxb\\lxb-coder\\python\n",
      "7 xiaobing2 D:\\lxb\\lxb-coder\\python\n",
      "6 xiaobing3 D:\\lxb\\lxb-coder\\python\n",
      "5 xiaobing4 D:\\lxb\\lxb-coder\\python\n",
      "4 xiaobing5 D:\\lxb\\lxb-coder\\python\n",
      "3 xiaobing6 D:\\lxb\\lxb-coder\\python\n",
      "2 xiaobing7 D:\\lxb\\lxb-coder\\python\n",
      "1 xiaobing8 D:\\lxb\\lxb-coder\\python\n",
      "0 xiaobing9 D:\\lxb\\lxb-coder\\python\n"
     ]
    }
   ],
   "source": [
    "class Module():\n",
    "\n",
    "    def __init__(self, id, name, path):\n",
    "        self.id = id\n",
    "        self.name = name\n",
    "        self.path = path\n",
    "\n",
    "    def __str__(self):\n",
    "        return str(self.id)+\" \"+self.name+\" \"+self.path\n",
    "    \n",
    "# 排序-自定义对象列表的排序\n",
    "# 1.借助列表的排序方法list.sort()\n",
    "# 2.使用sorted函数，该函数不改变原始容器的值，而是返回一个新建立的排好序的容器\n",
    "modules=[]\n",
    "for i in range(10):\n",
    "    modules.append( Module(9-i,\"xiaobing\"+str(i),\"D:\\lxb\\lxb-coder\\python\"))\n",
    "\n",
    "print(\"原始modules\")\n",
    "for module in modules:\n",
    "    print(module)\n",
    "\n",
    "modules.sort(key = lambda x:x.id, reverse = False)\n",
    "\n",
    "print(\"list.sort()排序后的modules\")\n",
    "for module in modules:\n",
    "    print(module)\n",
    "\n",
    "modules_new = sorted(modules, key = lambda x:x.id, reverse = True)\n",
    "\n",
    "print(\"sorted()排序前的modules\")\n",
    "for module in modules:\n",
    "    print(module)\n",
    "\n",
    "print(\"sorted()排序后的新的modules\")\n",
    "for module in modules_new:\n",
    "    print(module)\n"
   ]
  },
  {
   "cell_type": "markdown",
   "metadata": {},
   "source": [
    "## 查询最大或最小的N个元素"
   ]
  },
  {
   "cell_type": "markdown",
   "metadata": {},
   "source": [
    "## 栈"
   ]
  },
  {
   "cell_type": "markdown",
   "metadata": {},
   "source": [
    "## 队列"
   ]
  },
  {
   "cell_type": "markdown",
   "metadata": {},
   "source": [
    "## 单向链表"
   ]
  },
  {
   "cell_type": "markdown",
   "metadata": {},
   "source": [
    "## 双向链表"
   ]
  },
  {
   "cell_type": "markdown",
   "metadata": {},
   "source": [
    "## 单向循环链表"
   ]
  },
  {
   "cell_type": "markdown",
   "metadata": {},
   "source": [
    "## 树"
   ]
  },
  {
   "cell_type": "code",
   "execution_count": 8,
   "metadata": {},
   "outputs": [],
   "source": [
    "#参见多级字典"
   ]
  }
 ],
 "metadata": {
  "kernelspec": {
   "display_name": "Python 3",
   "language": "python",
   "name": "python3"
  },
  "language_info": {
   "codemirror_mode": {
    "name": "ipython",
    "version": 3
   },
   "file_extension": ".py",
   "mimetype": "text/x-python",
   "name": "python",
   "nbconvert_exporter": "python",
   "pygments_lexer": "ipython3",
   "version": "3.6.4"
  }
 },
 "nbformat": 4,
 "nbformat_minor": 2
}
