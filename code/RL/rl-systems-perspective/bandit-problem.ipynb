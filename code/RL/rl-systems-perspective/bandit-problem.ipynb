{
 "cells": [
  {
   "cell_type": "markdown",
   "metadata": {},
   "source": [
    "# Bandit-Problem"
   ]
  },
  {
   "cell_type": "markdown",
   "metadata": {},
   "source": [
    "## bandit的主要问题之一：如何平衡探索(explore)和利用(exploit)  \n",
    "  \n",
    "  平衡探索与利用问题，也叫做EE平衡问题，是在人们在作选择时客观存在的问题之一。探索与利用是相互矛盾的，互为阴阳。探索可以让你进行新的尝试而避免陷入一味的保守，但是新的尝试带来的也可能是不尽人意。利用只会使用自己当前最满意的选择而无法获得其他选择带来新鲜感，但是也省去了一味的盲目尝试且节约了时间精力。  \n",
    "  \n",
    "当然，最不费脑地平衡探索与利用的方就是随机选择，这也就是生活常看到的拿不定主意的时候抛个骰子的情景。人生那么长，不可能把所有选择都交给随机的骰子，从实际生活中看，人们作选择的时候总是会考量一番而避免瞎蒙，可以预见地是，随机选择极大可能会使自己过得很惨。那么除了随机选择方法之外，目前平衡探索和利用这一阴一阳的方法主要有如下4种：  \n",
    "- uniform greedy方法  \n",
    "- $\\epsilon$ greedy方法  \n",
    "- UCB方法   \n",
    "- Tompson sampling方法  \n",
    "\n",
    "衡量这些方法，其实就是看在时间 $t$ 我们根据这些方法作出选择时是否有遗憾 $regret$，以及慢慢人生路上会累积多少遗憾$regrets$，因此用累积遗憾来衡量这些方法的好坏 $ regrets=\\sum regret(t) $。如果这个方法让你感到无比遗憾和后悔时，那么这个方法对你来说就是不好的方法。"
   ]
  },
  {
   "cell_type": "markdown",
   "metadata": {},
   "source": [
    "## 方法效果对比"
   ]
  },
  {
   "cell_type": "code",
   "execution_count": 1,
   "metadata": {},
   "outputs": [
    {
     "data": {
      "text/plain": [
       "<matplotlib.figure.Figure at 0x161aafd0320>"
      ]
     },
     "metadata": {},
     "output_type": "display_data"
    }
   ],
   "source": [
    "import matplotlib.pyplot as plt\n",
    "import numpy as np\n",
    "from scipy import stats\n",
    "from matplotlib import style\n",
    "style.use('ggplot')\n",
    "params = [0.5, 1, 2, 3]\n",
    "x = np.linspace(0, 1, 100)\n",
    "f, ax = plt.subplots(len(params), len(params), sharex=True, sharey=True)\n",
    "for i in range(4):\n",
    "    for j in range(4):\n",
    "        alpha = params[i]\n",
    "        beta = params[j]\n",
    "        pdf = stats.beta(alpha, beta).pdf(x)\n",
    "        ax[i, j].plot(x, pdf)\n",
    "        ax[i, j].plot(0, 0, label='alpha={:3.2f}\\nbeta={:3.2f}'.format(alpha, beta), alpha=0)\n",
    "        plt.setp(ax[i, j], xticks=[0.0, 0.2, 0.4, 0.6, 0.8, 1.0], yticks=[0,2,4,6,8,10])\n",
    "        ax[i, j].legend(fontsize=10)\n",
    "ax[3, 0].set_xlabel('theta', fontsize=16)\n",
    "ax[0, 0].set_ylabel('pdf(theta)', fontsize=16)\n",
    "plt.suptitle('Beta PDF', fontsize=16)\n",
    "plt.tight_layout()\n",
    "plt.show()\n"
   ]
  },
  {
   "cell_type": "code",
   "execution_count": null,
   "metadata": {},
   "outputs": [],
   "source": []
  }
 ],
 "metadata": {
  "kernelspec": {
   "display_name": "Python 3",
   "language": "python",
   "name": "python3"
  },
  "language_info": {
   "codemirror_mode": {
    "name": "ipython",
    "version": 3
   },
   "file_extension": ".py",
   "mimetype": "text/x-python",
   "name": "python",
   "nbconvert_exporter": "python",
   "pygments_lexer": "ipython3",
   "version": "3.6.4"
  }
 },
 "nbformat": 4,
 "nbformat_minor": 2
}
