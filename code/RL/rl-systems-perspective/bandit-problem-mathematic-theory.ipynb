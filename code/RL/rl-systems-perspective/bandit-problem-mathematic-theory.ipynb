{
 "cells": [
  {
   "cell_type": "markdown",
   "metadata": {},
   "source": [
    "# Bandit Problem "
   ]
  },
  {
   "cell_type": "markdown",
   "metadata": {},
   "source": [
    "## 什么是多臂赌博机问题"
   ]
  },
  {
   "cell_type": "markdown",
   "metadata": {},
   "source": [
    "> 假设赌博机有$n$个手臂，玩家$Player_A$每摇一次手臂需要花费一枚代币，当玩家$Player_A$花费一枚代币任意摇一次手臂$i$后，赌博机会随机吐出金币的数量为$r_t(i)$，玩家获得这些金币后继续进行下一次的摇手臂动作。这些金币$r_{t}(i)$表示玩家$Player_A$在进行第$t$次动作时去摇手臂$i$获得的回报，摇一次手臂$i$叫做执行一次动作$a_t(i)$，因为赌博机只有$n$个手臂，因此可执行的动作是有限的$n$个动作$a_t(i),i=1,2,...,n$。如果玩家总共只有$T$个代币，那么玩家最多只有$T$次摇手臂的机会，在$T$次动作执行完之后，把所有回报相加就得到累积回报$R_T = \\sum_{t=1}^T r_{t}$。那么很自然地引出多臂赌博机的__基本问题：如何在有限次时间长度$T$的时间序列上去分布这些动作$a_t(i)$，才能获得最大的累积回报$R_T$？__     \n",
    "> 为了回答该问题，本文首先对基本问题作进一步地数学解释，然后给出任何算法都不能超越的上下界，并介绍当前的一些算法以及这些算法之间的区别，最后给出一个好的赌博机算法应当具备品质，以及如何寻求新的算法。    "
   ]
  },
  {
   "cell_type": "markdown",
   "metadata": {},
   "source": [
    "## 什么是回报与累积回报 - 随机变量，概率分布，随机过程，什么是随机过程？"
   ]
  },
  {
   "cell_type": "markdown",
   "metadata": {},
   "source": [
    "> **回报$r_t(i)$**：在第$t$次，玩家摇一次手臂$i$，赌博机随机吐出的金币数量为$r_t(i)$。可见，摇不同手臂，会得到不同的金币数量。对于同一个手臂，在不同的时间摇，也会得到不同数量的金币。那么什么是回报呢？ --- 也就是，回报是定义在不同手臂上的一个随机变量，概率分布，或者随机过程？\n",
    "   \n",
    "> **随机变量**：给定一个实验，实验的所有结果构成实验空间$S$，$S$的子集构成的域称为事件，并对这些事件赋予概率。如果对实验的每个结果$\\xi$指定一个数$\\pmb x(\\xi)$，于是建立了一个定义在$S$集合上的函数$\\pmb x$，该函数的值域为一个数集，如果该函数满足如下两个条件，则称该函数$\\pmb x$为随机变量。    \n",
    ">> 条件I. 对于每个$x$，集合$\\{\\pmb x \\leq x\\}$是一个事件。    \n",
    ">> 条件II. 事件$\\{\\pmb x = +\\infty\\}$和事件$\\{\\pmb x = -\\infty\\}$的概率等于0。即，$$P\\{\\pmb x = +\\infty\\}=0，P\\{\\pmb x = -\\infty\\}=0$$  \n",
    ">> 总之，随机变量$\\pmb x$就是满足上面两个条件的，将每个实验结果$\\xi$指定一个数$\\pmb x(\\xi)$的函数$\\pmb x$。  \n",
    ">> 注：符号$\\{\\pmb x \\leq x\\}$表示$S$的一个子集，因此也是一个事件，由满足$\\pmb x \\leq x$的所有结果$\\xi$组成。  \n",
    "\n",
    "    \n",
    "> **随机变量的概率分布**：    \n",
    "> **随机序列**：  \n",
    "> **随机过程**：    "
   ]
  },
  {
   "cell_type": "markdown",
   "metadata": {},
   "source": []
  },
  {
   "cell_type": "markdown",
   "metadata": {},
   "source": [
    "## 执行一次动作是什么？探索或利用，探索是什么，采样，采样是什么？"
   ]
  },
  {
   "cell_type": "markdown",
   "metadata": {},
   "source": [
    "## 估计的回报的概率分布的可信度(置信度?)为95%时对应的探索次数是多少？区分两个分布需要的最少探索次数是多少？衡量两个分布的相似性？信息量？信息论？样本复杂度？获得的回报的上下界？"
   ]
  },
  {
   "cell_type": "markdown",
   "metadata": {},
   "source": [
    "## 当前不同算法的区别是什么？- 对估计的最少探索次数的把握程度？"
   ]
  },
  {
   "cell_type": "markdown",
   "metadata": {},
   "source": [
    "## 赌博机与强化学习的关系是什么？"
   ]
  },
  {
   "cell_type": "code",
   "execution_count": null,
   "metadata": {},
   "outputs": [],
   "source": []
  }
 ],
 "metadata": {
  "kernelspec": {
   "display_name": "Python 3",
   "language": "python",
   "name": "python3"
  },
  "language_info": {
   "codemirror_mode": {
    "name": "ipython",
    "version": 3
   },
   "file_extension": ".py",
   "mimetype": "text/x-python",
   "name": "python",
   "nbconvert_exporter": "python",
   "pygments_lexer": "ipython3",
   "version": "3.6.4"
  }
 },
 "nbformat": 4,
 "nbformat_minor": 2
}
